{
 "cells": [
  {
   "cell_type": "code",
   "execution_count": 1,
   "metadata": {
    "collapsed": false
   },
   "outputs": [],
   "source": [
    "from emojis_lib import *"
   ]
  },
  {
   "cell_type": "markdown",
   "metadata": {},
   "source": [
    "# Construct Model"
   ]
  },
  {
   "cell_type": "code",
   "execution_count": 2,
   "metadata": {
    "collapsed": true
   },
   "outputs": [],
   "source": [
    "lemmatizer = init_lemmatizer(150000)"
   ]
  },
  {
   "cell_type": "code",
   "execution_count": 3,
   "metadata": {
    "collapsed": false
   },
   "outputs": [],
   "source": [
    "df = mongo_to_df(\"emojis\")"
   ]
  },
  {
   "cell_type": "code",
   "execution_count": 4,
   "metadata": {
    "collapsed": false
   },
   "outputs": [],
   "source": [
    "tweets = df_to_clean_list(df)"
   ]
  },
  {
   "cell_type": "code",
   "execution_count": 5,
   "metadata": {
    "collapsed": false
   },
   "outputs": [
    {
     "data": {
      "text/plain": [
       "3036909"
      ]
     },
     "execution_count": 5,
     "metadata": {},
     "output_type": "execute_result"
    }
   ],
   "source": [
    "len(tweets)"
   ]
  },
  {
   "cell_type": "code",
   "execution_count": 6,
   "metadata": {
    "collapsed": true
   },
   "outputs": [],
   "source": [
    "tweets = [clean_tweet(tweet,lemmatizer) for tweet in tweets]"
   ]
  },
  {
   "cell_type": "code",
   "execution_count": 7,
   "metadata": {
    "collapsed": true
   },
   "outputs": [],
   "source": [
    "tweets = [emoji.emojize(emoji.demojize(tweet).replace(\"::\", \": :\")) for tweet in tweets]"
   ]
  },
  {
   "cell_type": "code",
   "execution_count": 59,
   "metadata": {
    "collapsed": false
   },
   "outputs": [
    {
     "name": "stdout",
     "output_type": "stream",
     "text": [
      "Training model...\n",
      "Done!\n"
     ]
    }
   ],
   "source": [
    "model = apply_w2v(tweets, 100, 4, 4, 12, 1e-3)"
   ]
  },
  {
   "cell_type": "code",
   "execution_count": 60,
   "metadata": {
    "collapsed": false
   },
   "outputs": [
    {
     "data": {
      "text/plain": [
       "[('❤️🇺🇸', 0.736808180809021),\n",
       " ('godblessamerica', 0.7155251502990723),\n",
       " ('supertuesday16', 0.7048896551132202),\n",
       " ('merica', 0.6967030167579651),\n",
       " ('trump2016', 0.6897627115249634),\n",
       " ('makeamericagreatagain', 0.6892233490943909),\n",
       " ('marcomentum', 0.6818943023681641),\n",
       " ('secprimary', 0.6811294555664062),\n",
       " ('choosecruz', 0.6767135262489319),\n",
       " ('votetrump', 0.6758991479873657),\n",
       " ('🗳', 0.6756072044372559),\n",
       " ('election2016', 0.674425482749939),\n",
       " ('alwaystrump', 0.6732003688812256),\n",
       " ('maga', 0.666287899017334),\n",
       " ('texasprimary', 0.6648662090301514),\n",
       " ('votetrumpsupertuesday', 0.6550084352493286),\n",
       " ('rubio2016', 0.6524947881698608),\n",
       " ('ivoted', 0.6516146659851074),\n",
       " ('bospoli', 0.6455981731414795),\n",
       " ('tedcruz2016', 0.637853741645813),\n",
       " ('rockthevote', 0.6332900524139404),\n",
       " ('supertuesday', 0.6332550048828125),\n",
       " ('votetrump2016', 0.6298918724060059),\n",
       " ('cruzcrew', 0.6286619901657104),\n",
       " ('okprimary', 0.6246793866157532),\n",
       " ('stoptrump', 0.6215386986732483),\n",
       " ('gaprimary', 0.6166781187057495),\n",
       " ('trumptrain', 0.6144779920578003),\n",
       " ('trumptuesday', 0.6094892621040344),\n",
       " ('hillary2016', 0.6082524657249451),\n",
       " ('🇱🇷', 0.6058329343795776),\n",
       " ('🇮🇱', 0.6007746458053589),\n",
       " ('latinoveteran', 0.6003095507621765),\n",
       " ('feelthebern', 0.5998356938362122),\n",
       " ('bernie2016', 0.5972980856895447),\n",
       " ('wethepeople', 0.5963335037231445),\n",
       " ('buildthewall', 0.5944660902023315),\n",
       " ('vote2016', 0.5942242741584778),\n",
       " ('supermonday', 0.5932478904724121),\n",
       " ('enoughisenough', 0.5904721617698669),\n",
       " ('twowordtrump', 0.5883632898330688),\n",
       " ('mncaucus', 0.5867565870285034),\n",
       " ('notmeus', 0.5806618928909302),\n",
       " ('🇨🇱', 0.5805555582046509),\n",
       " ('fu2016', 0.5804487466812134),\n",
       " ('teammarco', 0.5803050994873047),\n",
       " ('txprimary', 0.5796467065811157),\n",
       " ('caucus2016', 0.5773769617080688),\n",
       " ('dumptrump', 0.575576663017273),\n",
       " ('wakeupamerica', 0.5752979516983032),\n",
       " ('arprimary', 0.5721745491027832),\n",
       " ('cruztovictory', 0.5701240301132202),\n",
       " ('hillno', 0.5696903467178345),\n",
       " ('votebernie', 0.568952739238739),\n",
       " ('mapoli', 0.5674498081207275),\n",
       " ('gapol', 0.5626575946807861),\n",
       " ('🗽', 0.5626038312911987),\n",
       " ('copolitics', 0.5603070259094238),\n",
       " ('teedchris', 0.559211015701294),\n",
       " ('votetogether', 0.5592107772827148),\n",
       " ('whitehouse', 0.5584093928337097),\n",
       " ('cruz2016', 0.558121919631958),\n",
       " ('hillyes', 0.5574815273284912),\n",
       " ('elections2016', 0.555901288986206),\n",
       " ('politicalrevolution', 0.5551367998123169),\n",
       " ('gopdebate', 0.5548005104064941),\n",
       " ('godblesstexas', 0.5542577505111694),\n",
       " ('teamtrump', 0.5533137917518616),\n",
       " ('nohillary', 0.5518717169761658),\n",
       " ('neverhillary', 0.5500921010971069),\n",
       " ('govote', 0.5476248264312744),\n",
       " ('cruzrubio2016', 0.5465953946113586),\n",
       " ('chaseelliott', 0.5447822213172913),\n",
       " ('pjnet', 0.5443440079689026),\n",
       " ('tyvm4', 0.5435689687728882),\n",
       " ('norubio', 0.5427694320678711),\n",
       " ('gopprimary', 0.5418131351470947),\n",
       " ('grangersmith', 0.5416117310523987),\n",
       " ('neverrubio', 0.5400919914245605),\n",
       " ('wearebernie', 0.5397053956985474),\n",
       " ('neverromney', 0.5384892225265503),\n",
       " ('imwithher', 0.5353108048439026),\n",
       " ('libcrib', 0.5338801741600037),\n",
       " ('decision2016', 0.5338265895843506),\n",
       " ('tnprimary', 0.5327115058898926),\n",
       " ('nevertrump', 0.5320097804069519),\n",
       " ('berniestrong', 0.5319820642471313),\n",
       " ('tcot', 0.5313336253166199),\n",
       " ('dumptheestablishment', 0.5309739112854004),\n",
       " ('neverevertrump', 0.5301352739334106),\n",
       " ('mngop', 0.530025064945221),\n",
       " ('uniteblue', 0.5291907787322998),\n",
       " ('whatilearnedtoday', 0.5289154052734375),\n",
       " ('trump4vets', 0.5285576581954956),\n",
       " ('vaprimary', 0.5272606611251831),\n",
       " ('bernieorbust', 0.5271954536437988),\n",
       " ('apalmerdc', 0.526944637298584),\n",
       " ('3120j', 0.5264792442321777),\n",
       " ('americatogether', 0.5263453722000122),\n",
       " ('usaf', 0.5260382890701294)]"
      ]
     },
     "execution_count": 60,
     "metadata": {},
     "output_type": "execute_result"
    }
   ],
   "source": [
    "model.most_similar(positive=['🇺🇸'], topn=100)"
   ]
  },
  {
   "cell_type": "markdown",
   "metadata": {},
   "source": [
    "# Emoji stats"
   ]
  },
  {
   "cell_type": "code",
   "execution_count": 61,
   "metadata": {
    "collapsed": false
   },
   "outputs": [],
   "source": [
    "faces = [\"😀\", \"😬\", \"😁\", \"😂\", \"😃\", \"😄\", \"😅\", \"😆\", \"😇\", \"😉\", \"😊\", \"🙂\", \"🙃\", \"☺️\", \"😋\", \"😌\", \"😍\", \"😘\",\n",
    "        \"😗\", \"😙\", \"😚\", \"😜\", \"😝\", \"😛\", \"🤑\", \"🤓\", \"😎\", \"🤗\", \"😏\", \"😶\", \"😐\", \"😑\", \"😒\", \"🙄\", \"🤔\", \"😳\",\n",
    "        \"😞\", \"😟\", \"😠\", \"😡\", \"😔\", \"😕\", \"🙁\", \"☹️\", \"😣\", \"😖\", \"😫\", \"😩\", \"😤\", \"😮\", \"😱\", \"😨\", \"😰\", \"😯\",\n",
    "        \"😦\", \"😧\", \"😢\", \"😥\", \"😪\", \"😓\", \"😭\", \"😵\", \"😲\", \"🤐\", \"😷\", \"🤒\", \"🤕\", \"😴\"]"
   ]
  },
  {
   "cell_type": "code",
   "execution_count": 62,
   "metadata": {
    "collapsed": false
   },
   "outputs": [],
   "source": [
    "count = count_emojis(tweets, 850)[\"text\"].value_counts().iloc[:850].keys()"
   ]
  },
  {
   "cell_type": "code",
   "execution_count": 63,
   "metadata": {
    "collapsed": true
   },
   "outputs": [],
   "source": [
    "list_emojis = count[:650]"
   ]
  },
  {
   "cell_type": "code",
   "execution_count": 64,
   "metadata": {
    "collapsed": false
   },
   "outputs": [],
   "source": [
    "def most_similar(positive, negative=[], nb_words=50000, top=5):\n",
    "    a,_ = map(list, zip(*model.most_similar(positive=positive, negative=negative, topn=nb_words)))\n",
    "    return [word for word in a if word in list_emojis][:top]"
   ]
  },
  {
   "cell_type": "code",
   "execution_count": 65,
   "metadata": {
    "collapsed": false
   },
   "outputs": [
    {
     "data": {
      "text/plain": [
       "['💀', '😅', '🤔', '🙄', '😭', '😩', '😳', '😒', '🚮', '🍆', '😐', '🤐', '😴', '😷', '😹']"
      ]
     },
     "execution_count": 65,
     "metadata": {},
     "output_type": "execute_result"
    }
   ],
   "source": [
    "most_similar(positive = [\"😂\"], top = 15)"
   ]
  },
  {
   "cell_type": "code",
   "execution_count": 66,
   "metadata": {
    "collapsed": true
   },
   "outputs": [],
   "source": [
    "def most_similar_face(positive, negative=[], nb_words=100000, top=5):\n",
    "    a,_ = map(list, zip(*model.most_similar(positive=positive, negative=negative, topn=nb_words)))\n",
    "    return [word for word in a if word in faces][:top]"
   ]
  },
  {
   "cell_type": "code",
   "execution_count": 67,
   "metadata": {
    "collapsed": false
   },
   "outputs": [
    {
     "data": {
      "text/plain": [
       "['😴', '😠', '😡', '😒', '😧', '😑', '🙄', '😤', '😂', '🤔']"
      ]
     },
     "execution_count": 67,
     "metadata": {},
     "output_type": "execute_result"
    }
   ],
   "source": [
    "most_similar_face(positive = [\"bore\"], top = 10)"
   ]
  },
  {
   "cell_type": "markdown",
   "metadata": {},
   "source": [
    "# Emoji map"
   ]
  },
  {
   "cell_type": "code",
   "execution_count": 68,
   "metadata": {
    "collapsed": true
   },
   "outputs": [],
   "source": [
    "import matplotlib.pyplot as plt"
   ]
  },
  {
   "cell_type": "code",
   "execution_count": 69,
   "metadata": {
    "collapsed": true
   },
   "outputs": [],
   "source": [
    "emo_vecs = []\n",
    "for emo in list_emojis:\n",
    "    try:\n",
    "        emo_vecs.append(model[emo])\n",
    "    except Exception:\n",
    "        continue"
   ]
  },
  {
   "cell_type": "code",
   "execution_count": 79,
   "metadata": {
    "collapsed": false
   },
   "outputs": [],
   "source": [
    "ts = TSNE(2, perplexity=50, early_exaggeration=1, n_iter=7000,\n",
    "          init = 'pca',metric='euclidean')\n",
    "reduced_vecs = ts.fit_transform(emo_vecs)"
   ]
  },
  {
   "cell_type": "code",
   "execution_count": 80,
   "metadata": {
    "collapsed": false
   },
   "outputs": [],
   "source": [
    "fig = plt.figure(figsize = (25,10))\n",
    "ax = fig.add_subplot(111)\n",
    "\n",
    "plt.plot(reduced_vecs[:,0], reduced_vecs[:,1], \"o\", markersize=0)\n",
    "for i, txt in enumerate(list_emojis):\n",
    "    try:\n",
    "        ax.annotate(txt, (reduced_vecs[:,0][i],reduced_vecs[:,1][i]), fontsize = 10)\n",
    "    except Exception:\n",
    "        continue\n",
    "    \n",
    "plt.show()"
   ]
  },
  {
   "cell_type": "code",
   "execution_count": 46,
   "metadata": {
    "collapsed": true
   },
   "outputs": [],
   "source": [
    "from sklearn.cluster import KMeans\n",
    "km = KMeans(n_clusters=12, init='k-means++', max_iter=200, n_init=1)"
   ]
  },
  {
   "cell_type": "code",
   "execution_count": 22,
   "metadata": {
    "collapsed": false
   },
   "outputs": [
    {
     "data": {
      "text/plain": [
       "KMeans(copy_x=True, init='k-means++', max_iter=200, n_clusters=12, n_init=1,\n",
       "    n_jobs=1, precompute_distances='auto', random_state=None, tol=0.0001,\n",
       "    verbose=0)"
      ]
     },
     "execution_count": 22,
     "metadata": {},
     "output_type": "execute_result"
    }
   ],
   "source": [
    "km.fit(emo_vecs)"
   ]
  },
  {
   "cell_type": "code",
   "execution_count": null,
   "metadata": {
    "collapsed": true
   },
   "outputs": [],
   "source": []
  }
 ],
 "metadata": {
  "kernelspec": {
   "display_name": "Python 3",
   "language": "python",
   "name": "python3"
  },
  "language_info": {
   "codemirror_mode": {
    "name": "ipython",
    "version": 3
   },
   "file_extension": ".py",
   "mimetype": "text/x-python",
   "name": "python",
   "nbconvert_exporter": "python",
   "pygments_lexer": "ipython3",
   "version": "3.5.1"
  }
 },
 "nbformat": 4,
 "nbformat_minor": 0
}
